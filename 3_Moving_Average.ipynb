{
 "cells": [
  {
   "cell_type": "markdown",
   "metadata": {},
   "source": [
    "# Initial Imports"
   ]
  },
  {
   "cell_type": "code",
   "execution_count": 1,
   "metadata": {},
   "outputs": [],
   "source": [
    "import pandas as pd\n",
    "import numpy as np\n",
    "import matplotlib.pyplot as plt\n",
    "import pickle\n",
    "from sklearn.metrics import f1_score, accuracy_score\n",
    "from sklearn.preprocessing import StandardScaler\n",
    "from sklearn.linear_model import LogisticRegression\n",
    "from sklearn.model_selection import StratifiedKFold\n",
    "from sklearn.feature_selection import SelectFromModel\n",
    "from collections import defaultdict\n",
    "from imblearn.over_sampling import SVMSMOTE\n",
    "from imblearn.under_sampling import RandomUnderSampler\n",
    "import scipy.stats as stats"
   ]
  },
  {
   "cell_type": "markdown",
   "metadata": {},
   "source": [
    "# Preprocessing"
   ]
  },
  {
   "cell_type": "code",
   "execution_count": 12,
   "metadata": {},
   "outputs": [],
   "source": [
    "# df = pd.read_csv(\"./kieranFeatures_1-30_14-Nov-2024_rawSA.csv\").replace([np.inf, -np.inf], np.nan).interpolate() # Perform linear interpolation on all non-valid numbers\n",
    "\n",
    "# adj_SA_1_median = np.median(df[\"adjSA1\"])\n",
    "# adj_SA_2_median = np.median(df[\"adjSA2\"])\n",
    "# adj_SA_3_median = np.median(df[\"adjSA3\"])\n",
    "# adj_SA_tot_median = np.median(df[\"adjSAtotal\"])\n",
    "\n",
    "# df[\"Lv_1_Lo\"] = (df[\"adjSA1\"] < adj_SA_1_median).astype(int)\n",
    "# df[\"Lv_2_Lo\"] = (df[\"adjSA2\"] < adj_SA_2_median).astype(int)\n",
    "# df[\"Lv_3_Lo\"] = (df[\"adjSA3\"] < adj_SA_3_median).astype(int)\n",
    "# df[\"Tot_Lo\"] = (df[\"adjSAtotal\"] < adj_SA_tot_median).astype(int)\n",
    "\n",
    "# # df[\"Lv_1_Lo\"] = (df[\"SA1\"] < 5).astype(int)\n",
    "# # df[\"Lv_2_Lo\"] = (df[\"SA2\"] < 5).astype(int)\n",
    "# # df[\"Lv_3_Lo\"] = (df[\"SA3\"] < 5).astype(int)\n",
    "# # df[\"Tot_Lo\"] = (df[\"SAtotal\"] < 15).astype(int)\n",
    "\n",
    "# ids = df.iloc[:, 0]\n",
    "# trial_nums = df.iloc[:, 1]\n",
    "# predictors_df = df.iloc[:, 2:df.shape[1] - 8]\n",
    "# outcomes_df = df.iloc[:, df.shape[1] - 8:]\n",
    "# outcomes_df_shuffled = outcomes_df.copy()\n",
    "\n",
    "# # # Shuffle Labels\n",
    "# outcomes_df_shuffled[\"Lv_1_Lo\"] = np.random.permutation(outcomes_df_shuffled[\"Lv_1_Lo\"])\n",
    "# outcomes_df_shuffled[\"Lv_2_Lo\"] = np.random.permutation(outcomes_df_shuffled[\"Lv_2_Lo\"])\n",
    "# outcomes_df_shuffled[\"Lv_3_Lo\"] = np.random.permutation(outcomes_df_shuffled[\"Lv_3_Lo\"])\n",
    "# outcomes_df_shuffled[\"Tot_Lo\"] = np.random.permutation(outcomes_df_shuffled[\"Tot_Lo\"])\n",
    "\n",
    "# # Free Memory\n",
    "# del df"
   ]
  },
  {
   "cell_type": "code",
   "execution_count": 11,
   "metadata": {},
   "outputs": [],
   "source": [
    "# Import dataset\n",
    "df = pd.read_csv(\"./kieranFeatures_1-30_26-Sep-2024.csv\")\n",
    "n_rows = df.shape[0]\n",
    "\n",
    "\n",
    "# Compute 3-Moving Average for each ID\n",
    "df[\"avg_adjSA1\"] = np.nan\n",
    "df[\"avg_adjSA2\"] = np.nan\n",
    "df[\"avg_adjSA3\"] = np.nan\n",
    "df[\"avg_adjSAtotal\"] = np.nan\n",
    "\n",
    "start_row = 0\n",
    "end_row = start_row\n",
    "\n",
    "while end_row < n_rows:\n",
    "    cur_ID = df.loc[start_row, \"ID\"]\n",
    "\n",
    "    # Position end_row to be the last row of the same ID as start_row\n",
    "    while end_row < n_rows - 1 and df.loc[end_row + 1, \"ID\"] == cur_ID:\n",
    "        end_row += 1\n",
    "\n",
    "    # Compute 3-Moving Average for current participant ID\n",
    "    cur_row = start_row + 1\n",
    "    while cur_row < end_row:\n",
    "        df.loc[cur_row, \"avg_adjSA1\"] = np.mean([df.loc[cur_row - 1, \"adjSA1\"], df.loc[cur_row, \"adjSA1\"], df.loc[cur_row + 1, \"adjSA1\"]])\n",
    "        df.loc[cur_row, \"avg_adjSA2\"] = np.mean([df.loc[cur_row - 1, \"adjSA2\"], df.loc[cur_row, \"adjSA2\"], df.loc[cur_row + 1, \"adjSA1\"]])\n",
    "        df.loc[cur_row, \"avg_adjSA3\"] = np.mean([df.loc[cur_row - 1, \"adjSA3\"], df.loc[cur_row, \"adjSA3\"], df.loc[cur_row + 1, \"adjSA1\"]])\n",
    "        df.loc[cur_row, \"avg_adjSAtotal\"] = np.mean([df.loc[cur_row - 1, \"adjSAtotal\"], df.loc[cur_row, \"adjSAtotal\"], df.loc[cur_row + 1, \"adjSAtotal\"]])\n",
    "\n",
    "        cur_row += 1\n",
    "\n",
    "    # Move to next participant ID\n",
    "    start_row = end_row + 1\n",
    "    end_row = start_row\n",
    "\n",
    "df.dropna(inplace = True)\n",
    "\n",
    "# Fill in 0 data (missing)\n",
    "df = df.replace(0, np.nan)\n",
    "\n",
    "# Impute missing values with mean of column\n",
    "for col in df.columns:\n",
    "    df[col] = df[col].fillna(value = df[col].mean())"
   ]
  },
  {
   "cell_type": "code",
   "execution_count": null,
   "metadata": {},
   "outputs": [],
   "source": []
  }
 ],
 "metadata": {
  "kernelspec": {
   "display_name": "Python 3",
   "language": "python",
   "name": "python3"
  },
  "language_info": {
   "codemirror_mode": {
    "name": "ipython",
    "version": 3
   },
   "file_extension": ".py",
   "mimetype": "text/x-python",
   "name": "python",
   "nbconvert_exporter": "python",
   "pygments_lexer": "ipython3",
   "version": "3.10.12"
  }
 },
 "nbformat": 4,
 "nbformat_minor": 2
}
