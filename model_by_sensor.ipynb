{
 "cells": [
  {
   "cell_type": "markdown",
   "metadata": {},
   "source": [
    "# Initial Imports"
   ]
  },
  {
   "cell_type": "code",
   "execution_count": 1,
   "metadata": {},
   "outputs": [],
   "source": [
    "import pandas as pd\n",
    "import numpy as np\n",
    "import matplotlib.pyplot as plt\n",
    "import joblib\n",
    "from sklearn import metrics\n",
    "from sklearn.linear_model import LogisticRegression, LogisticRegressionCV\n",
    "from sklearn.model_selection import train_test_split, StratifiedKFold, GridSearchCV\n",
    "from sklearn.feature_selection import SelectFromModel, RFE, RFECV\n",
    "from sklearn.preprocessing import StandardScaler\n",
    "from sklearn.metrics import accuracy_score\n",
    "from collections import defaultdict\n",
    "\n",
    "ECG_df = pd.read_csv(\"./Data by Sensor/kieranFeatures_1-30_24-Oct-2024_ECG-only.csv\").drop(columns = \"ID\")\n",
    "EDA_df = pd.read_csv(\"./Data by Sensor/kieranFeatures_1-30_24-Oct-2024_EDA-only.csv\").drop(columns = \"ID\")\n",
    "EEG_df = pd.read_csv(\"./Data by Sensor/kieranFeatures_1-30_24-Oct-2024_EEG-only.csv\").drop(columns = \"ID\")\n",
    "EYE_df = pd.read_csv(\"./Data by Sensor/kieranFeatures_1-30_24-Oct-2024_EYE-only.csv\").drop(columns = \"ID\")\n",
    "fNIRS_df = pd.read_csv(\"./Data by Sensor/kieranFeatures_1-30_24-Oct-2024_fNIRS-only.csv\").drop(columns = \"ID\")\n",
    "RSP_df = pd.read_csv(\"./Data by Sensor/kieranFeatures_1-30_24-Oct-2024_RSP-only.csv\").drop(columns = \"ID\")"
   ]
  },
  {
   "cell_type": "markdown",
   "metadata": {},
   "source": [
    "# Pre-Processing"
   ]
  },
  {
   "cell_type": "code",
   "execution_count": 2,
   "metadata": {},
   "outputs": [],
   "source": [
    "# Isolate the outcomes variables\n",
    "outcomes_df = ECG_df.iloc[:, ECG_df.shape[1] - 4:]\n",
    "\n",
    "# Create binary variables for high and low \n",
    "adj_SA_1_median = np.median(outcomes_df[\"adjSA1\"])\n",
    "adj_SA_2_median = np.median(outcomes_df[\"adjSA2\"])\n",
    "adj_SA_3_median = np.median(outcomes_df[\"adjSA3\"])\n",
    "adj_SA_tot_median = np.median(outcomes_df[\"adjSAtotal\"])\n",
    "\n",
    "# Will be high if adjusted SA level score is equal to or above median, low otherwise\n",
    "outcomes_df[\"Lv_1_Hi\"] = (outcomes_df[\"adjSA1\"] >= adj_SA_1_median).astype(int)\n",
    "outcomes_df[\"Lv_2_Hi\"] = (outcomes_df[\"adjSA2\"] >= adj_SA_2_median).astype(int)\n",
    "outcomes_df[\"Lv_3_Hi\"] = (outcomes_df[\"adjSA3\"] >= adj_SA_3_median).astype(int)\n",
    "outcomes_df[\"Tot_Hi\"] = (outcomes_df[\"adjSAtotal\"] >= adj_SA_tot_median).astype(int)\n",
    "\n",
    "# Remove outcomes variables from each sensor dataframe\n",
    "ECG_df = ECG_df.iloc[:, :ECG_df.shape[1] - 4]\n",
    "EDA_df = EDA_df.iloc[:, :EDA_df.shape[1] - 4]\n",
    "EEG_df = EEG_df.iloc[:, :EEG_df.shape[1] - 4]\n",
    "EYE_df = EYE_df.iloc[:, :EYE_df.shape[1] - 4]\n",
    "fNIRS_df = fNIRS_df.iloc[:, :fNIRS_df.shape[1] - 4]\n",
    "RSP_df = RSP_df.iloc[:, :RSP_df.shape[1] - 4]\n",
    "\n",
    "# Free Memory\n",
    "del adj_SA_1_median\n",
    "del adj_SA_2_median\n",
    "del adj_SA_3_median\n",
    "del adj_SA_tot_median"
   ]
  },
  {
   "cell_type": "markdown",
   "metadata": {},
   "source": [
    "# Training Models"
   ]
  },
  {
   "cell_type": "code",
   "execution_count": null,
   "metadata": {},
   "outputs": [
    {
     "ename": "NameError",
     "evalue": "name 'ECG_out_train' is not defined",
     "output_type": "error",
     "traceback": [
      "\u001b[0;31m---------------------------------------------------------------------------\u001b[0m",
      "\u001b[0;31mNameError\u001b[0m                                 Traceback (most recent call last)",
      "Cell \u001b[0;32mIn[12], line 59\u001b[0m\n\u001b[1;32m     57\u001b[0m Ridge_model\u001b[38;5;241m.\u001b[39mfit(ECG_pred_CV, ECG_out_CV[outcome_var])\n\u001b[1;32m     58\u001b[0m LASSO_model\u001b[38;5;241m.\u001b[39mfit(ECG_pred_CV, ECG_out_CV[outcome_var])\n\u001b[0;32m---> 59\u001b[0m RFE_model\u001b[38;5;241m.\u001b[39mfit(ECG_pred_CV, \u001b[43mECG_out_train\u001b[49m[outcome_var])\n\u001b[1;32m     60\u001b[0m RFE_No_Penalty_model\u001b[38;5;241m.\u001b[39mfit(ECG_pred_CV, ECG_out_train[outcome_var])\n\u001b[1;32m     62\u001b[0m \u001b[38;5;66;03m# Append Best Model's Score\u001b[39;00m\n",
      "\u001b[0;31mNameError\u001b[0m: name 'ECG_out_train' is not defined"
     ]
    }
   ],
   "source": [
    "outcome_var = \"Lv_1_Hi\"\n",
    "\n",
    "test_fold_scores = defaultdict(list)\n",
    "\n",
    "# for i in range(10):\n",
    "ECG_skf = StratifiedKFold(n_splits = 5, shuffle = True)\n",
    "for i, (CV_idx, test_idx) in enumerate(ECG_skf.split(ECG_df, outcomes_df[outcome_var])):\n",
    "    # Train-Test Split for the Fold\n",
    "    ECG_pred_CV = ECG_df.iloc[CV_idx, :]\n",
    "    ECG_pred_test = ECG_df.iloc[test_idx, :]\n",
    "    ECG_out_CV = outcomes_df.iloc[CV_idx, :]\n",
    "    ECG_out_test = outcomes_df.iloc[test_idx, :]\n",
    "\n",
    "    ECG_cv = StratifiedKFold(n_splits = 10, shuffle = True)\n",
    "\n",
    "    # Initialize Models\n",
    "    Ridge_model = LogisticRegressionCV(\n",
    "        Cs = [0.001, 0.01, 0.1, 1, 10, 100], \n",
    "        cv = ECG_cv, fit_intercept = False, \n",
    "        solver = \"saga\", \n",
    "        n_jobs = -1, \n",
    "        max_iter = 10000, \n",
    "        scoring = \"accuracy\", \n",
    "        refit = True)\n",
    "\n",
    "    LASSO_model = LogisticRegressionCV(\n",
    "        Cs = [0.0001, 0.001, 0.01, 0.1, 1, 10, 100, 1000, 10000], \n",
    "        cv = ECG_cv, \n",
    "        fit_intercept = False, \n",
    "        penalty = \"l1\", \n",
    "        solver = \"saga\", \n",
    "        n_jobs = -1, \n",
    "        max_iter = 10000, \n",
    "        scoring = \"accuracy\", \n",
    "        refit = True)\n",
    "\n",
    "    RFE_model = RFECV(\n",
    "        estimator = LogisticRegression(\n",
    "            max_iter = 10000, \n",
    "            solver = \"saga\", \n",
    "            fit_intercept = False), \n",
    "        cv = ECG_cv, \n",
    "        scoring = \"accuracy\", \n",
    "        n_jobs = -1)\n",
    "\n",
    "    RFE_No_Penalty_model = RFECV(\n",
    "        estimator = LogisticRegression(\n",
    "            penalty = None, \n",
    "            max_iter = 10000, \n",
    "            solver = \"saga\", \n",
    "            fit_intercept = False), \n",
    "        cv = ECG_cv, \n",
    "        scoring = \"accuracy\", \n",
    "        n_jobs = -1)\n",
    "\n",
    "    # Fit Models with CV Splits\n",
    "    Ridge_model.fit(ECG_pred_CV, ECG_out_CV[outcome_var])\n",
    "    LASSO_model.fit(ECG_pred_CV, ECG_out_CV[outcome_var])\n",
    "    RFE_model.fit(ECG_pred_CV, ECG_out_CV[outcome_var])\n",
    "    RFE_No_Penalty_model.fit(ECG_pred_CV, ECG_out_CV[outcome_var])\n",
    "\n",
    "    # Append Best Model's Score\n",
    "    test_fold_scores[\"Ridge\"].append(Ridge_model.score(ECG_pred_test, ECG_out_test[outcome_var]))\n",
    "    test_fold_scores[\"LASSO\"].append(LASSO_model.score(ECG_pred_test, ECG_out_test[outcome_var]))\n",
    "    test_fold_scores[\"RFE\"].append(RFE_model.score(ECG_pred_test, ECG_out_test[outcome_var]))\n",
    "    test_fold_scores[\"RFE (No Penalty)\"].append(RFE_No_Penalty_model.score(ECG_pred_test, ECG_out_test[outcome_var]))"
   ]
  },
  {
   "cell_type": "code",
   "execution_count": 10,
   "metadata": {},
   "outputs": [
    {
     "name": "stdout",
     "output_type": "stream",
     "text": [
      "Ridge 0.5766338797814208\n",
      "LASSO 0.5855081967213115\n"
     ]
    }
   ],
   "source": [
    "for key in test_fold_scores:\n",
    "    print(key, np.mean(test_fold_scores[key]))"
   ]
  },
  {
   "cell_type": "code",
   "execution_count": null,
   "metadata": {},
   "outputs": [],
   "source": []
  }
 ],
 "metadata": {
  "kernelspec": {
   "display_name": "Python 3",
   "language": "python",
   "name": "python3"
  },
  "language_info": {
   "codemirror_mode": {
    "name": "ipython",
    "version": 3
   },
   "file_extension": ".py",
   "mimetype": "text/x-python",
   "name": "python",
   "nbconvert_exporter": "python",
   "pygments_lexer": "ipython3",
   "version": "3.10.12"
  }
 },
 "nbformat": 4,
 "nbformat_minor": 2
}
