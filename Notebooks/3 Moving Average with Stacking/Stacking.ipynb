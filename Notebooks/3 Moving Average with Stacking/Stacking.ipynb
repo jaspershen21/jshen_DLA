{
 "cells": [
  {
   "cell_type": "markdown",
   "metadata": {},
   "source": [
    "# Initial Imports"
   ]
  },
  {
   "cell_type": "code",
   "execution_count": 21,
   "metadata": {},
   "outputs": [],
   "source": [
    "import pandas as pd\n",
    "import numpy as np\n",
    "import matplotlib.pyplot as plt\n",
    "# import plotly.express as px\n",
    "# import plotly.graph_objects as go\n",
    "# from plotly.subplots import make_subplots\n",
    "# import pickle\n",
    "from sklearn.pipeline import Pipeline\n",
    "from sklearn.metrics import f1_score, accuracy_score\n",
    "from sklearn.preprocessing import StandardScaler\n",
    "from sklearn.linear_model import LogisticRegression, LogisticRegressionCV\n",
    "from sklearn.model_selection import StratifiedKFold, train_test_split, KFold\n",
    "# from sklearn.feature_selection import SelectFromModel\n",
    "# from collections import defaultdict\n",
    "import scipy.stats as stats\n",
    "\n",
    "import warnings\n",
    "warnings.filterwarnings(\"ignore\", category = UserWarning)"
   ]
  },
  {
   "cell_type": "markdown",
   "metadata": {},
   "source": [
    "# Preprocessing"
   ]
  },
  {
   "cell_type": "code",
   "execution_count": 2,
   "metadata": {},
   "outputs": [],
   "source": [
    "# Preprocess dataset (Outputs: ids, trial_nums, predictors_df, outcomes_df, outcomes_df_shuffled)\n",
    "# Import dataset\n",
    "df = pd.read_csv(\"./../../Datasets/kieranFeatures_1-31_21-Jan-2025_avgof3_rawSA.csv\").replace([np.inf, -np.inf], np.nan)\n",
    "\n",
    "# Create Low vs High Columns\n",
    "df[\"Lv_1_Lo\"] = (df[\"SA1\"] < 5).astype(bool)\n",
    "df[\"Lv_2_Lo\"] = (df[\"SA2\"] < 5).astype(bool)\n",
    "df[\"Lv_3_Lo\"] = (df[\"SA3\"] < 5).astype(bool)\n",
    "df[\"Tot_Lo\"] = (df[\"SAtotal\"] < 15).astype(bool)\n",
    "\n",
    "# Impute missing values with mean of column\n",
    "for col in df.columns:\n",
    "    df[col] = df[col].fillna(value = df[col].mean())\n",
    "\n",
    "# Split up dataset\n",
    "ids = df[\"ID\"].astype(np.uint8)\n",
    "predictors_df = df.drop(columns = [\"ID\", \"trialNum\", \"SA1\", \"SA2\", \"SA3\", \"SAtotal\", \"Lv_1_Lo\", \"Lv_2_Lo\", \"Lv_3_Lo\", \"Tot_Lo\"]).astype(np.float64)\n",
    "outcomes_df = df[[\"Lv_1_Lo\", \"Lv_2_Lo\", \"Lv_3_Lo\", \"Tot_Lo\"]]\n",
    "\n",
    "# Divide up dataframe\n",
    "ids = df[\"ID\"]\n",
    "ECG_df = df.loc[:, [col for col in df if col.startswith(\"ECG\")]]\n",
    "EDA_df = df.loc[:, [col for col in df if col.startswith(\"EDA\")]]\n",
    "EEG_df = df.loc[:, [col for col in df if col.startswith(\"EEG\")]]\n",
    "EYE_df = df.loc[:, [col for col in df if col.startswith(\"EYE\")]]\n",
    "fNIRS_df = df.loc[:, [col for col in df if col.startswith(\"fNIRS\")]]\n",
    "RSP_df = df.loc[:, [col for col in df if col.startswith(\"RSP\")]]\n",
    "sensor_dfs = [(ECG_df, \"ECG\"), (EDA_df, \"EDA\"), (EEG_df, \"EEG\"), (EYE_df, \"EYE\"), (fNIRS_df, \"fNIRS\"), (RSP_df, \"RSP\")]\n",
    "\n",
    "# Train-Validation-Test Splits\n",
    "ids_cv, ids_test = train_test_split(ids, test_size = 0.15, random_state = 42, stratify = ids)\n",
    "ids_train, ids_val = train_test_split(ids_cv, test_size = 0.17647, random_state = 42, stratify = ids_cv) # 15% of original dataframe for validation set\n",
    "\n",
    "outcomes_train = outcomes_df.loc[ids_train.index]\n",
    "outcomes_val = outcomes_df.loc[ids_val.index]\n",
    "outcomes_test = outcomes_df.loc[ids_test.index]\n",
    "\n",
    "# Free up memory\n",
    "del col, df, predictors_df, ids_cv"
   ]
  },
  {
   "cell_type": "markdown",
   "metadata": {},
   "source": [
    "# SA Level 1"
   ]
  },
  {
   "cell_type": "markdown",
   "metadata": {},
   "source": [
    "## Hyperparameter Tuning"
   ]
  },
  {
   "cell_type": "code",
   "execution_count": 17,
   "metadata": {},
   "outputs": [],
   "source": [
    "def hyperparameter_tune_sensor_model(df, level):\n",
    "    \"\"\"\n",
    "    Performs custom Cross Validation to find the best hyperparameters for the sensor model.\n",
    "    Train-Validate-Test Split: 70-15-15 done.\n",
    "    5-Fold Stratifies Cross Validation is done on the training set with respect to the ids.\n",
    "    The best model is selected based on the F1 score.\n",
    "    \"\"\"\n",
    "\n",
    "    # Train-Validate-Test Split\n",
    "    X_train, y_train = df.iloc[ids_train.index], outcomes_train[level]\n",
    "\n",
    "    Cs = [0.001, 0.01, 0.1, 1, 10, 100, 1000]\n",
    "    best_model_C = 1.0\n",
    "    best_model_score = 0.0\n",
    "\n",
    "    # Get Best C Hyperparameter\n",
    "    for c_param in Cs:\n",
    "        skf = StratifiedKFold(n_splits = 5, shuffle = True, random_state = 42)\n",
    "        model_scores = []\n",
    "\n",
    "        # Iterate Through All Possible Folds\n",
    "        for _, (train_index, test_index) in enumerate(skf.split(X_train, ids_train)):\n",
    "            # Train-Test Split for Cross Validation of Base Models\n",
    "            X_train_fold, X_test_fold = X_train.iloc[train_index], X_train.iloc[test_index]\n",
    "            y_train_fold, y_test_fold = y_train.iloc[train_index], y_train.iloc[test_index]\n",
    "\n",
    "            # Scale the Training Data\n",
    "            scaler = StandardScaler()\n",
    "            X_train_scaled = scaler.fit_transform(X_train_fold)\n",
    "            X_test_scaled = scaler.transform(X_test_fold)\n",
    "\n",
    "            # Fit Model\n",
    "            model = LogisticRegression(\n",
    "                C = c_param,\n",
    "                fit_intercept = False,\n",
    "                solver = \"saga\",\n",
    "                max_iter = 20000,\n",
    "                class_weight = \"balanced\",\n",
    "                n_jobs = -1,\n",
    "                random_state = 42\n",
    "            )\n",
    "\n",
    "            model.fit(X_train_scaled, y_train_fold)\n",
    "            model_scores.append(f1_score(y_test_fold, model.predict(X_test_scaled)))\n",
    "\n",
    "        # Update Best Model if CV Score is Better\n",
    "        if np.mean(model_scores) > best_model_score:\n",
    "            best_model_C = c_param\n",
    "            best_model_score = np.mean(model_scores)\n",
    "\n",
    "    return best_model_C"
   ]
  },
  {
   "cell_type": "code",
   "execution_count": 18,
   "metadata": {},
   "outputs": [
    {
     "name": "stdout",
     "output_type": "stream",
     "text": [
      "ECG: 1\n",
      "EDA: 100\n",
      "EEG: 100\n",
      "EYE: 0.01\n",
      "fNIRS: 1\n",
      "RSP: 0.1\n"
     ]
    }
   ],
   "source": [
    "for sensor_df, sensor_name in sensor_dfs:\n",
    "    print(sensor_name + \": \", end = \"\")\n",
    "    print(hyperparameter_tune_sensor_model(sensor_df, \"Lv_1_Lo\"))"
   ]
  },
  {
   "cell_type": "markdown",
   "metadata": {},
   "source": [
    "## Training Base Models"
   ]
  },
  {
   "cell_type": "code",
   "execution_count": 3,
   "metadata": {},
   "outputs": [],
   "source": [
    "# Setup Models\n",
    "ECG_model = LogisticRegression(\n",
    "    C = 1.0,\n",
    "    fit_intercept = False,\n",
    "    solver = \"saga\",\n",
    "    max_iter = 20000,\n",
    "    class_weight = \"balanced\",\n",
    "    n_jobs = -1,\n",
    "    random_state = 42\n",
    ")\n",
    "\n",
    "EDA_model = LogisticRegression(\n",
    "    C = 100.0,\n",
    "    fit_intercept = False,\n",
    "    solver = \"saga\",\n",
    "    max_iter = 20000,\n",
    "    class_weight = \"balanced\",\n",
    "    n_jobs = -1,\n",
    "    random_state = 42\n",
    ")\n",
    "\n",
    "EEG_model = LogisticRegression(\n",
    "    C = 100.0,\n",
    "    fit_intercept = False,\n",
    "    solver = \"saga\",\n",
    "    max_iter = 20000,\n",
    "    class_weight = \"balanced\",\n",
    "    n_jobs = -1,\n",
    "    random_state = 42\n",
    ")\n",
    "\n",
    "EYE_model = LogisticRegression(\n",
    "    C = 0.01,\n",
    "    fit_intercept = False,\n",
    "    solver = \"saga\",\n",
    "    max_iter = 20000,\n",
    "    class_weight = \"balanced\",\n",
    "    n_jobs = -1,\n",
    "    random_state = 42\n",
    ")\n",
    "\n",
    "fNIRS_model = LogisticRegression(\n",
    "    C = 1,\n",
    "    fit_intercept = False,\n",
    "    solver = \"saga\",\n",
    "    max_iter = 20000,\n",
    "    class_weight = \"balanced\",\n",
    "    n_jobs = -1,\n",
    "    random_state = 42\n",
    ")\n",
    "\n",
    "RSP_model = LogisticRegression(\n",
    "    C = 0.1,\n",
    "    fit_intercept = False,\n",
    "    solver = \"saga\",\n",
    "    max_iter = 20000,\n",
    "    class_weight = \"balanced\",\n",
    "    n_jobs = -1,\n",
    "    random_state = 42\n",
    ")"
   ]
  },
  {
   "cell_type": "code",
   "execution_count": 4,
   "metadata": {},
   "outputs": [],
   "source": [
    "def get_base_model_validation_predictions(sensor_name, model, df, level):\n",
    "    # Train-Validation-Test Split\n",
    "    X_train, X_val = df.iloc[ids_train.index], df.iloc[ids_val.index]\n",
    "    y_train = outcomes_train[level]\n",
    "\n",
    "    # Scale the Training Data\n",
    "    scaler = StandardScaler()\n",
    "    X_train_scaled = scaler.fit_transform(X_train)\n",
    "    X_val_scaled = scaler.transform(X_val)\n",
    "\n",
    "    # Train Model\n",
    "    model.fit(X_train_scaled, y_train)\n",
    "\n",
    "    # Get Validation Predictions and Probabilities\n",
    "    validation_predictions = np.array(model.predict(X_val_scaled))\n",
    "    validation_prediction_probabilities = np.array(model.predict_proba(X_val_scaled)[:, 1])\n",
    "\n",
    "    # Naming Stuff\n",
    "    prediction_column_name = sensor_name + \"_Prediction\"\n",
    "    prediction_probability_column_name = sensor_name + \"_Prediction_Probability\"\n",
    "\n",
    "    predictions_df = pd.DataFrame({prediction_column_name: validation_predictions, prediction_probability_column_name: validation_prediction_probabilities})\n",
    "\n",
    "    return predictions_df, model, scaler"
   ]
  },
  {
   "cell_type": "code",
   "execution_count": 5,
   "metadata": {},
   "outputs": [],
   "source": [
    "base_model_predictions = pd.DataFrame()\n",
    "trained_base_models = {}\n",
    "trained_scalers = {}\n",
    "sensor_details = [(ECG_df, \"ECG\", ECG_model), (EDA_df, \"EDA\", EDA_model), (EEG_df, \"EEG\", EEG_model), (EYE_df, \"EYE\", EYE_model), (fNIRS_df, \"fNIRS\", fNIRS_model), (RSP_df, \"RSP\", RSP_model)]\n",
    "\n",
    "for sensor_df, sensor_name, sensor_model in sensor_details:\n",
    "    predictions, trained_model, trained_scaler = get_base_model_validation_predictions(sensor_name, sensor_model, sensor_df, \"Lv_1_Lo\")\n",
    "    base_model_predictions = pd.concat([base_model_predictions, predictions], axis = 1)\n",
    "    trained_base_models[sensor_name] = trained_model\n",
    "    trained_scalers[sensor_name] = trained_scaler"
   ]
  },
  {
   "cell_type": "markdown",
   "metadata": {},
   "source": [
    "## Hyperparameter Tuning for Meta-Model"
   ]
  },
  {
   "cell_type": "code",
   "execution_count": 35,
   "metadata": {},
   "outputs": [],
   "source": [
    "def hyperparameter_tune_meta_model(df, level):\n",
    "    # df should be the dataframe with the base model predictions\n",
    "    skf = StratifiedKFold(n_splits = 5, shuffle = True, random_state = 42)\n",
    "\n",
    "    model = LogisticRegressionCV(\n",
    "        Cs = [0.001, 0.01, 0.1, 1, 10, 100, 1000],\n",
    "        cv = skf,\n",
    "        scoring = \"f1\",\n",
    "        fit_intercept = False,\n",
    "        solver = \"saga\",\n",
    "        max_iter = 20000,\n",
    "        class_weight = \"balanced\",\n",
    "        n_jobs = -1,\n",
    "        random_state = 42\n",
    "    )\n",
    "\n",
    "    pipeline = Pipeline([(\"scaler\", StandardScaler()), (\"model\", model)])\n",
    "    pipeline.fit(df, outcomes_val[level])\n",
    "\n",
    "    return pipeline[1].C_"
   ]
  },
  {
   "cell_type": "code",
   "execution_count": 36,
   "metadata": {},
   "outputs": [
    {
     "name": "stdout",
     "output_type": "stream",
     "text": [
      "[0.01]\n"
     ]
    }
   ],
   "source": [
    "print(hyperparameter_tune_meta_model(base_model_predictions, \"Lv_1_Lo\"))"
   ]
  },
  {
   "cell_type": "markdown",
   "metadata": {},
   "source": [
    "## Train Meta-Model"
   ]
  },
  {
   "cell_type": "code",
   "execution_count": 6,
   "metadata": {},
   "outputs": [],
   "source": [
    "# Setup Meta Model\n",
    "meta_model = LogisticRegression(\n",
    "    C = 0.01,\n",
    "    fit_intercept = False,\n",
    "    solver = \"saga\",\n",
    "    max_iter = 20000,\n",
    "    class_weight = \"balanced\",\n",
    "    n_jobs = -1,\n",
    "    random_state = 42\n",
    ")"
   ]
  },
  {
   "cell_type": "code",
   "execution_count": 7,
   "metadata": {},
   "outputs": [],
   "source": [
    "def fit_meta_model(df, model, level):\n",
    "    # df should be the dataframe with the base model predictions\n",
    "    # Scale the Data\n",
    "    scaler = StandardScaler()\n",
    "    X_scaled = scaler.fit_transform(df)\n",
    "\n",
    "    # Fit Model\n",
    "    model.fit(X_scaled, outcomes_val[level])\n",
    "\n",
    "    return model, scaler"
   ]
  },
  {
   "cell_type": "code",
   "execution_count": 8,
   "metadata": {},
   "outputs": [],
   "source": [
    "meta_model, meta_model_scaler = fit_meta_model(base_model_predictions, meta_model, \"Lv_1_Lo\")"
   ]
  },
  {
   "cell_type": "code",
   "execution_count": 9,
   "metadata": {},
   "outputs": [],
   "source": [
    "def get_base_model_test_predictions(sensor_df, sensor_name, scaler, model):\n",
    "    X_test = sensor_df.iloc[ids_test.index]\n",
    "\n",
    "    # Scale the Data\n",
    "    X_test_scaled = scaler.transform(X_test)\n",
    "\n",
    "    # Get Test Predictions and Probabilities\n",
    "    test_predictions = np.array(model.predict(X_test_scaled))\n",
    "    test_prediction_probabilities = np.array(model.predict_proba(X_test_scaled)[:, 1])\n",
    "\n",
    "    # Naming Stuff\n",
    "    prediction_column_name = sensor_name + \"_Prediction\"\n",
    "    prediction_probability_column_name = sensor_name + \"_Prediction_Probability\"\n",
    "\n",
    "    predictions_df = pd.DataFrame({prediction_column_name: test_predictions, prediction_probability_column_name: test_prediction_probabilities})\n",
    "\n",
    "    return predictions_df"
   ]
  },
  {
   "cell_type": "code",
   "execution_count": 10,
   "metadata": {},
   "outputs": [],
   "source": [
    "# Get Base Model Predictions on Test Set\n",
    "base_model_test_predictions = pd.DataFrame()\n",
    "\n",
    "for sensor_df, sensor_name in sensor_dfs:\n",
    "    predictions = get_base_model_test_predictions(sensor_df, sensor_name, trained_scalers[sensor_name], trained_base_models[sensor_name])\n",
    "    base_model_test_predictions = pd.concat([base_model_test_predictions, predictions], axis = 1)"
   ]
  },
  {
   "cell_type": "code",
   "execution_count": 18,
   "metadata": {},
   "outputs": [
    {
     "name": "stdout",
     "output_type": "stream",
     "text": [
      "F1: 0.5789473684210527\n",
      "Accuracy: 0.6444444444444445\n"
     ]
    }
   ],
   "source": [
    "scaled_test_predictions = meta_model_scaler.transform(base_model_test_predictions)\n",
    "f1_performance = f1_score(outcomes_test[\"Lv_1_Lo\"], meta_model.predict(scaled_test_predictions))\n",
    "accuracy_performance = accuracy_score(outcomes_test[\"Lv_1_Lo\"], meta_model.predict(scaled_test_predictions))\n",
    "print(\"F1: \" + str(f1_performance))\n",
    "print(\"Accuracy: \" + str(accuracy_performance))"
   ]
  },
  {
   "cell_type": "code",
   "execution_count": 20,
   "metadata": {},
   "outputs": [
    {
     "name": "stdout",
     "output_type": "stream",
     "text": [
      "TtestResult(statistic=np.float64(nan), pvalue=np.float64(nan), df=np.int64(0))\n",
      "TtestResult(statistic=np.float64(nan), pvalue=np.float64(nan), df=np.int64(0))\n",
      "TtestResult(statistic=np.float64(nan), pvalue=np.float64(nan), df=np.int64(0))\n",
      "TtestResult(statistic=np.float64(nan), pvalue=np.float64(nan), df=np.int64(0))\n"
     ]
    },
    {
     "name": "stderr",
     "output_type": "stream",
     "text": [
      "/home/jshen/.local/lib/python3.10/site-packages/scipy/stats/_stats_py.py:1114: RuntimeWarning: divide by zero encountered in divide\n",
      "  var *= np.divide(n, n-ddof)  # to avoid error on division by zero\n",
      "/home/jshen/.local/lib/python3.10/site-packages/scipy/stats/_stats_py.py:1114: RuntimeWarning: invalid value encountered in scalar multiply\n",
      "  var *= np.divide(n, n-ddof)  # to avoid error on division by zero\n"
     ]
    }
   ],
   "source": [
    "f1_always_true = f1_score(outcomes_test[\"Lv_1_Lo\"], np.ones(outcomes_test[\"Lv_1_Lo\"].shape))\n",
    "f1_baseline = (2 * np.mean(outcomes_test[\"Lv_1_Lo\"] * 0.5) / (np.mean(outcomes_test[\"Lv_1_Lo\"]) + 0.5))\n",
    "accuracy_always_false = accuracy_score(outcomes_test[\"Lv_1_Lo\"], np.zeros(outcomes_test[\"Lv_1_Lo\"].shape))\n",
    "accuracy_baseline = 0.5\n",
    "\n",
    "print(stats.ttest_1samp(a = f1_performance, popmean = f1_always_true))\n",
    "print(stats.ttest_1samp(a = f1_performance, popmean = f1_baseline))\n",
    "print(stats.ttest_1samp(a = accuracy_performance, popmean = accuracy_always_false))\n",
    "print(stats.ttest_1samp(a = accuracy_performance, popmean = accuracy_baseline))"
   ]
  },
  {
   "cell_type": "code",
   "execution_count": 27,
   "metadata": {},
   "outputs": [
    {
     "data": {
      "text/plain": [
       "<matplotlib.legend.Legend at 0x7f0384b6d450>"
      ]
     },
     "execution_count": 27,
     "metadata": {},
     "output_type": "execute_result"
    },
    {
     "data": {
      "image/png": "[encoded data removed]",
      "text/plain": [
       "<Figure size 640x480 with 1 Axes>"
      ]
     },
     "metadata": {},
     "output_type": "display_data"
    }
   ],
   "source": [
    "plt.axhline(y = f1_always_true, color = \"r\", linestyle = \"--\", label = \"Always True F1\")\n",
    "plt.axhline(y = f1_baseline, color = \"black\", linestyle = \"--\", label = \"Baseline F1\")\n",
    "plt.scatter(x = 0, y = f1_performance, color = \"blue\", label = \"Meta Model F1\")\n",
    "\n",
    "plt.ylim(0, 1)\n",
    "plt.legend()"
   ]
  },
  {
   "cell_type": "code",
   "execution_count": null,
   "metadata": {},
   "outputs": [
    {
     "data": {
      "text/plain": [
       "<matplotlib.legend.Legend at 0x7f0382b9dab0>"
      ]
     },
     "execution_count": 28,
     "metadata": {},
     "output_type": "execute_result"
    },
    {
     "data": {
      "image/png": "[encoded data removed]",
      "text/plain": [
       "<Figure size 640x480 with 1 Axes>"
      ]
     },
     "metadata": {},
     "output_type": "display_data"
    }
   ],
   "source": [
    "plt.axhline(y = accuracy_always_false, color = \"r\", linestyle = \"--\", label = \"Always False Accuracy\")\n",
    "plt.axhline(y = accuracy_baseline, color = \"black\", linestyle = \"--\", label = \"Baseline Accuracy\")\n",
    "plt.scatter(x = 0, y = accuracy_performance, color = \"blue\", label = \"Meta-Model Accuracy\")\n",
    "\n",
    "plt.ylim(0, 1)\n",
    "plt.legend()"
   ]
  },
  {
   "cell_type": "code",
   "execution_count": null,
   "metadata": {},
   "outputs": [],
   "source": []
  }
 ],
 "metadata": {
  "kernelspec": {
   "display_name": "Python 3",
   "language": "python",
   "name": "python3"
  },
  "language_info": {
   "codemirror_mode": {
    "name": "ipython",
    "version": 3
   },
   "file_extension": ".py",
   "mimetype": "text/x-python",
   "name": "python",
   "nbconvert_exporter": "python",
   "pygments_lexer": "ipython3",
   "version": "3.10.12"
  }
 },
 "nbformat": 4,
 "nbformat_minor": 2
}
