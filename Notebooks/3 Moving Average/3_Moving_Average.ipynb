{
 "cells": [
  {
   "cell_type": "markdown",
   "metadata": {},
   "source": [
    "# Initial Imports"
   ]
  },
  {
   "cell_type": "code",
   "execution_count": 1,
   "metadata": {},
   "outputs": [],
   "source": [
    "import pandas as pd\n",
    "import numpy as np\n",
    "import matplotlib.pyplot as plt\n",
    "import pickle\n",
    "from sklearn.metrics import f1_score, accuracy_score\n",
    "from sklearn.preprocessing import StandardScaler\n",
    "from sklearn.linear_model import LogisticRegression\n",
    "from sklearn.model_selection import StratifiedKFold\n",
    "from sklearn.feature_selection import SelectFromModel\n",
    "from collections import defaultdict\n",
    "from imblearn.over_sampling import SVMSMOTE\n",
    "from imblearn.under_sampling import RandomUnderSampler\n",
    "import scipy.stats as stats"
   ]
  },
  {
   "cell_type": "markdown",
   "metadata": {},
   "source": [
    "# Preprocessing"
   ]
  },
  {
   "cell_type": "code",
   "execution_count": 3,
   "metadata": {},
   "outputs": [],
   "source": [
    "# Import dataset\n",
    "df = pd.read_csv(\"./../../Datasets/kieranFeatures_1-31_21-Jan-2025_avgof3.csv\").replace([np.inf, -np.inf], np.nan)\n",
    "\n",
    "df[\"Lv_1_Lo\"] = (df[\"adjSA1\"] < np.percentile(df[\"adjSA1\"], 36)).astype(np.bool_)\n",
    "df[\"Lv_2_Lo\"] = (df[\"adjSA2\"] < np.percentile(df[\"adjSA2\"], 47)).astype(np.bool_)\n",
    "df[\"Lv_3_Lo\"] = (df[\"adjSA3\"] < np.percentile(df[\"adjSA3\"], 40)).astype(np.bool_)\n",
    "df[\"Tot_Lo\"] = (df[\"adjSAtotal\"] < np.percentile(df[\"adjSAtotal\"], 49)).astype(np.bool_)\n",
    "\n",
    "# Impute missing values with mean of column\n",
    "for col in df.columns:\n",
    "    df[col] = df[col].fillna(value = df[col].mean())\n",
    "\n",
    "# Split up dataset\n",
    "ids = df[\"ID\"].astype(np.uint8)\n",
    "# trial_nums = df[\"trialNum\"].astype(np.uint8)\n",
    "predictors_df = df.drop(columns = [\"ID\", \"trialNum\", \"adjSA1\", \"adjSA2\", \"adjSA3\", \"adjSAtotal\", \"Lv_1_Lo\", \"Lv_2_Lo\", \"Lv_3_Lo\", \"Tot_Lo\"]).astype(np.float64)\n",
    "outcomes_df = df[[\"Lv_1_Lo\", \"Lv_2_Lo\", \"Lv_3_Lo\", \"Tot_Lo\"]]\n",
    "outcomes_df_shuffled = outcomes_df.copy()\n",
    "\n",
    "# Shuffle labels for shuffled data\n",
    "outcomes_df_shuffled[\"Lv_1_Lo\"] = np.random.permutation(outcomes_df_shuffled[\"Lv_1_Lo\"])\n",
    "outcomes_df_shuffled[\"Lv_2_Lo\"] = np.random.permutation(outcomes_df_shuffled[\"Lv_2_Lo\"])\n",
    "outcomes_df_shuffled[\"Lv_3_Lo\"] = np.random.permutation(outcomes_df_shuffled[\"Lv_3_Lo\"])\n",
    "outcomes_df_shuffled[\"Tot_Lo\"] = np.random.permutation(outcomes_df_shuffled[\"Tot_Lo\"])\n",
    "\n",
    "# Free up memory\n",
    "del col, df"
   ]
  },
  {
   "cell_type": "code",
   "execution_count": 18,
   "metadata": {},
   "outputs": [
    {
     "data": {
      "text/plain": [
       "0          -1.84785\n",
       "1        252.438729\n",
       "2          4.902291\n",
       "3          0.622102\n",
       "4           0.36862\n",
       "           ...     \n",
       "295    -3.402921835\n",
       "296     5.298826105\n",
       "297    -3.224659795\n",
       "298    -2.598417765\n",
       "299     0.008975581\n",
       "Name: EEG_frpcv_o1_version11, Length: 300, dtype: object"
      ]
     },
     "execution_count": 18,
     "metadata": {},
     "output_type": "execute_result"
    }
   ],
   "source": [
    "df.iloc[:, 781]"
   ]
  },
  {
   "cell_type": "code",
   "execution_count": null,
   "metadata": {},
   "outputs": [],
   "source": []
  }
 ],
 "metadata": {
  "kernelspec": {
   "display_name": "Python 3",
   "language": "python",
   "name": "python3"
  },
  "language_info": {
   "codemirror_mode": {
    "name": "ipython",
    "version": 3
   },
   "file_extension": ".py",
   "mimetype": "text/x-python",
   "name": "python",
   "nbconvert_exporter": "python",
   "pygments_lexer": "ipython3",
   "version": "3.10.12"
  }
 },
 "nbformat": 4,
 "nbformat_minor": 2
}
