{
 "cells": [
  {
   "cell_type": "markdown",
   "metadata": {},
   "source": [
    "# Initial Imports"
   ]
  },
  {
   "cell_type": "code",
   "execution_count": 1,
   "metadata": {},
   "outputs": [],
   "source": [
    "import pandas as pd\n",
    "import numpy as np\n",
    "import matplotlib.pyplot as plt\n",
    "import pickle\n",
    "from sklearn.metrics import f1_score, accuracy_score\n",
    "from sklearn.preprocessing import StandardScaler\n",
    "from sklearn.linear_model import LogisticRegression\n",
    "from sklearn.model_selection import StratifiedKFold\n",
    "from sklearn.feature_selection import SelectFromModel\n",
    "from collections import defaultdict\n",
    "from imblearn.over_sampling import SVMSMOTE\n",
    "from imblearn.under_sampling import RandomUnderSampler\n",
    "import scipy.stats as stats"
   ]
  },
  {
   "cell_type": "markdown",
   "metadata": {},
   "source": [
    "# Preprocessing"
   ]
  },
  {
   "cell_type": "code",
   "execution_count": 2,
   "metadata": {},
   "outputs": [],
   "source": [
    "# Calculate moving average data, impute missing values, and divide data into separate dataframes (ids, ECG_df, EDA_df, EEG_df, EYE_df, fNIRS_df, RSP_df, outcomes_df)\n",
    "# Import dataset\n",
    "df = pd.read_csv(\"./kieranFeatures_1-30_26-Sep-2024.csv\")\n",
    "\n",
    "\n",
    "\n",
    "#\n",
    "# Compute 3-Moving Average for each ID\n",
    "#\n",
    "n_rows = df.shape[0]\n",
    "\n",
    "df[\"avg_adjSA1\"] = np.nan\n",
    "df[\"avg_adjSA2\"] = np.nan\n",
    "df[\"avg_adjSA3\"] = np.nan\n",
    "df[\"avg_adjSAtotal\"] = np.nan\n",
    "\n",
    "cur_row = 1\n",
    "while cur_row + 1 < n_rows:\n",
    "    cur_ID = df.loc[cur_row, \"ID\"]\n",
    "    next_ID = df.loc[cur_row + 1, \"ID\"]\n",
    "\n",
    "    if cur_ID == next_ID:\n",
    "        # Compute moving average for current trial number if not last trial\n",
    "        df.loc[cur_row, \"avg_adjSA1\"] = np.mean([df.loc[cur_row - 1, \"adjSA1\"], df.loc[cur_row, \"adjSA1\"], df.loc[cur_row + 1, \"adjSA1\"]])\n",
    "        df.loc[cur_row, \"avg_adjSA2\"] = np.mean([df.loc[cur_row - 1, \"adjSA2\"], df.loc[cur_row, \"adjSA2\"], df.loc[cur_row + 1, \"adjSA1\"]])\n",
    "        df.loc[cur_row, \"avg_adjSA3\"] = np.mean([df.loc[cur_row - 1, \"adjSA3\"], df.loc[cur_row, \"adjSA3\"], df.loc[cur_row + 1, \"adjSA1\"]])\n",
    "        df.loc[cur_row, \"avg_adjSAtotal\"] = np.mean([df.loc[cur_row - 1, \"adjSAtotal\"], df.loc[cur_row, \"adjSAtotal\"], df.loc[cur_row + 1, \"adjSAtotal\"]])\n",
    "\n",
    "        cur_row += 1\n",
    "    else:\n",
    "        # Move to 2nd trial of next participant\n",
    "        cur_row += 2\n",
    "\n",
    "# Remove first and last trials of each participant\n",
    "df.dropna(inplace = True)\n",
    "\n",
    "\n",
    "\n",
    "#\n",
    "# Impute Data\n",
    "#\n",
    "\n",
    "# Impute missing values with mean of column\n",
    "df.replace(0, np.nan, inplace = True)\n",
    "for col in df.columns:\n",
    "    df[col] = df[col].fillna(value = df[col].mean())\n",
    "\n",
    "\n",
    "\n",
    "#\n",
    "# Divide Dataframe\n",
    "#\n",
    "ids = df[\"ID\"]\n",
    "ECG_df = df.loc[:, [col for col in df if col.startswith(\"ECG\")]]\n",
    "EDA_df = df.loc[:, [col for col in df if col.startswith(\"EDA\")]]\n",
    "EEG_df = df.loc[:, [col for col in df if col.startswith(\"EEG\")]]\n",
    "EYE_df = df.loc[:, [col for col in df if col.startswith(\"EYE\")]]\n",
    "fNIRS_df = df.loc[:, [col for col in df if col.startswith(\"fNIRS\")]]\n",
    "RSP_df = df.loc[:, [col for col in df if col.startswith(\"RSP\")]]\n",
    "outcomes_df = df.iloc[:, df.shape[1] - 8:]\n",
    "\n",
    "\n",
    "\n",
    "#\n",
    "# Free Memory\n",
    "#\n",
    "del col, cur_ID, cur_row, df, n_rows, next_ID"
   ]
  },
  {
   "cell_type": "code",
   "execution_count": null,
   "metadata": {},
   "outputs": [],
   "source": []
  }
 ],
 "metadata": {
  "kernelspec": {
   "display_name": "Python 3",
   "language": "python",
   "name": "python3"
  },
  "language_info": {
   "codemirror_mode": {
    "name": "ipython",
    "version": 3
   },
   "file_extension": ".py",
   "mimetype": "text/x-python",
   "name": "python",
   "nbconvert_exporter": "python",
   "pygments_lexer": "ipython3",
   "version": "3.10.12"
  }
 },
 "nbformat": 4,
 "nbformat_minor": 2
}
