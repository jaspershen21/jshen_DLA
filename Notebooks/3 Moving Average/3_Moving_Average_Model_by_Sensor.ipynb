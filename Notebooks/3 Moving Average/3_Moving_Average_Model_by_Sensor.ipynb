{
 "cells": [
  {
   "cell_type": "markdown",
   "metadata": {},
   "source": [
    "# Initial Imports"
   ]
  },
  {
   "cell_type": "code",
   "execution_count": 1,
   "metadata": {},
   "outputs": [],
   "source": [
    "import pandas as pd\n",
    "import numpy as np\n",
    "import matplotlib.pyplot as plt\n",
    "import pickle\n",
    "from sklearn.metrics import f1_score, accuracy_score\n",
    "from sklearn.preprocessing import StandardScaler\n",
    "from sklearn.linear_model import LogisticRegression\n",
    "from sklearn.model_selection import StratifiedKFold\n",
    "from sklearn.feature_selection import SelectFromModel\n",
    "from collections import defaultdict\n",
    "import scipy.stats as stats"
   ]
  },
  {
   "cell_type": "markdown",
   "metadata": {},
   "source": [
    "# Preprocessing"
   ]
  },
  {
   "cell_type": "code",
   "execution_count": 2,
   "metadata": {},
   "outputs": [],
   "source": [
    "# Preprocess dataset (Outputs: ids, trial_nums, predictors_df, outcomes_df, outcomes_df_shuffled)\n",
    "# Import dataset\n",
    "df = pd.read_csv(\"./../../Datasets/kieranFeatures_1-31_21-Jan-2025_avgof3_rawSA.csv\").replace([np.inf, -np.inf], np.nan)\n",
    "\n",
    "# Create Low vs High Columns\n",
    "df[\"Lv_1_Lo\"] = (df[\"SA1\"] < 5).astype(np.bool_)\n",
    "df[\"Lv_2_Lo\"] = (df[\"SA2\"] < 5).astype(np.bool_)\n",
    "df[\"Lv_3_Lo\"] = (df[\"SA3\"] < 5).astype(np.bool_)\n",
    "df[\"Tot_Lo\"] = (df[\"SAtotal\"] < 15).astype(np.bool_)\n",
    "\n",
    "# Impute missing values with mean of column\n",
    "for col in df.columns:\n",
    "    df[col] = df[col].fillna(value = df[col].mean())\n",
    "\n",
    "# Split up dataset\n",
    "ids = df[\"ID\"].astype(np.uint8)\n",
    "predictors_df = df.drop(columns = [\"ID\", \"trialNum\", \"SA1\", \"SA2\", \"SA3\", \"SAtotal\", \"Lv_1_Lo\", \"Lv_2_Lo\", \"Lv_3_Lo\", \"Tot_Lo\"]).astype(np.float64)\n",
    "outcomes_df = df[[\"Lv_1_Lo\", \"Lv_2_Lo\", \"Lv_3_Lo\", \"Tot_Lo\"]]\n",
    "outcomes_df_shuffled = outcomes_df.copy()\n",
    "\n",
    "# Shuffle labels for shuffled data\n",
    "outcomes_df_shuffled[\"Lv_1_Lo\"] = np.random.permutation(outcomes_df_shuffled[\"Lv_1_Lo\"])\n",
    "outcomes_df_shuffled[\"Lv_2_Lo\"] = np.random.permutation(outcomes_df_shuffled[\"Lv_2_Lo\"])\n",
    "outcomes_df_shuffled[\"Lv_3_Lo\"] = np.random.permutation(outcomes_df_shuffled[\"Lv_3_Lo\"])\n",
    "outcomes_df_shuffled[\"Tot_Lo\"] = np.random.permutation(outcomes_df_shuffled[\"Tot_Lo\"])\n",
    "\n",
    "# Divide up dataframe\n",
    "ids = df[\"ID\"]\n",
    "ECG_df = df.loc[:, [col for col in df if col.startswith(\"ECG\")]]\n",
    "EDA_df = df.loc[:, [col for col in df if col.startswith(\"EDA\")]]\n",
    "EEG_df = df.loc[:, [col for col in df if col.startswith(\"EEG\")]]\n",
    "EYE_df = df.loc[:, [col for col in df if col.startswith(\"EYE\")]]\n",
    "fNIRS_df = df.loc[:, [col for col in df if col.startswith(\"fNIRS\")]]\n",
    "RSP_df = df.loc[:, [col for col in df if col.startswith(\"RSP\")]]\n",
    "\n",
    "# Free up memory\n",
    "del col, df, predictors_df"
   ]
  },
  {
   "cell_type": "code",
   "execution_count": null,
   "metadata": {},
   "outputs": [],
   "source": []
  }
 ],
 "metadata": {
  "kernelspec": {
   "display_name": "Python 3",
   "language": "python",
   "name": "python3"
  },
  "language_info": {
   "codemirror_mode": {
    "name": "ipython",
    "version": 3
   },
   "file_extension": ".py",
   "mimetype": "text/x-python",
   "name": "python",
   "nbconvert_exporter": "python",
   "pygments_lexer": "ipython3",
   "version": "3.10.12"
  }
 },
 "nbformat": 4,
 "nbformat_minor": 2
}
