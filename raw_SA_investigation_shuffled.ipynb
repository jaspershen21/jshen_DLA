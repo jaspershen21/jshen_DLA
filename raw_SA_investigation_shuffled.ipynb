{
 "cells": [
  {
   "cell_type": "markdown",
   "metadata": {},
   "source": [
    "# Initial Imports"
   ]
  },
  {
   "cell_type": "code",
   "execution_count": 6,
   "metadata": {},
   "outputs": [],
   "source": [
    "import pandas as pd\n",
    "import numpy as np\n",
    "import matplotlib.pyplot as plt\n",
    "import joblib\n",
    "import pickle\n",
    "from sklearn.metrics import f1_score\n",
    "from sklearn.linear_model import LogisticRegression, LogisticRegressionCV\n",
    "from sklearn.model_selection import StratifiedKFold, RepeatedStratifiedKFold\n",
    "from sklearn.feature_selection import SelectFromModel\n",
    "from collections import defaultdict, Counter"
   ]
  },
  {
   "cell_type": "markdown",
   "metadata": {},
   "source": [
    "# Pre-Processing"
   ]
  },
  {
   "cell_type": "code",
   "execution_count": 8,
   "metadata": {},
   "outputs": [],
   "source": [
    "df = pd.read_csv(\"./kieranFeatures_1-30_14-Nov-2024_rawSA.csv\").replace([np.inf, -np.inf], np.nan).interpolate() # Perform linear interpolation on all non-valid numbers\n",
    "\n",
    "df[\"Lv_1_Hi\"] = (df[\"SA1\"] >= 5).astype(int)\n",
    "df[\"Lv_2_Hi\"] = (df[\"SA2\"] >= 5).astype(int)\n",
    "df[\"Lv_3_Hi\"] = (df[\"SA3\"] >= 5).astype(int)\n",
    "df[\"Tot_Hi\"] = (df[\"SAtotal\"] >= 15).astype(int)\n",
    "\n",
    "ids = df.iloc[:, 0]\n",
    "trial_nums = df.iloc[:, 1]\n",
    "predictors_df = df.iloc[:, 2:df.shape[1] - 8]\n",
    "outcomes_df = df.iloc[:, df.shape[1] - 8:]\n",
    "\n",
    "# Shuffle Labels\n",
    "outcomes_df[\"Lv_1_Hi\"] = np.random.permutation(outcomes_df[\"Lv_1_Hi\"])\n",
    "outcomes_df[\"Lv_2_Hi\"] = np.random.permutation(outcomes_df[\"Lv_2_Hi\"])\n",
    "outcomes_df[\"Lv_3_Hi\"] = np.random.permutation(outcomes_df[\"Lv_3_Hi\"])\n",
    "outcomes_df[\"Tot_Hi\"] = np.random.permutation(outcomes_df[\"Tot_Hi\"])\n",
    "\n",
    "# Free Memory\n",
    "del df"
   ]
  },
  {
   "cell_type": "markdown",
   "metadata": {},
   "source": [
    "# Cross Validation"
   ]
  },
  {
   "cell_type": "code",
   "execution_count": 9,
   "metadata": {},
   "outputs": [],
   "source": [
    "test_scores = {\n",
    "    \"Lv_1_Hi\": [],\n",
    "    \"Lv_2_Hi\": [],\n",
    "    \"Lv_3_Hi\": [],\n",
    "    \"Tot_Hi\": []\n",
    "}\n",
    "\n",
    "CV_models = {\n",
    "    \"Lv_1_Hi\": [],\n",
    "    \"Lv_2_Hi\": [],\n",
    "    \"Lv_3_Hi\": [],\n",
    "    \"Tot_Hi\": []\n",
    "}\n",
    "\n",
    "relaxed_LASSO_features = {\n",
    "    \"Lv_1_Hi\": [],\n",
    "    \"Lv_2_Hi\": [],\n",
    "    \"Lv_3_Hi\": [],\n",
    "    \"Tot_Hi\": []\n",
    "}"
   ]
  },
  {
   "cell_type": "code",
   "execution_count": 10,
   "metadata": {},
   "outputs": [],
   "source": [
    "def evaluate_models(pred_df, out_df, ids, trial_nums):\n",
    "    f1_scores = defaultdict(list)\n",
    "    models = defaultdict(list)\n",
    "    relaxed_LASSO_selected_features = []\n",
    "\n",
    "    # Obtain 5 test folds stratifying by participant ID\n",
    "    skf = StratifiedKFold(n_splits = 5, shuffle = True, random_state = 42)\n",
    "    for i, (CV_idx, test_idx) in enumerate(skf.split(pred_df, ids)):\n",
    "        # Train-Test Split for the Fold\n",
    "        ids_CV = ids.iloc[CV_idx].values\n",
    "        # ids_test = ids.iloc[test_idx].values\n",
    "        # trial_nums_CV = ids.iloc[CV_idx].values\n",
    "        # trial_nums_test = ids.iloc[test_idx].values\n",
    "        pred_CV = pred_df.iloc[CV_idx, :].values\n",
    "        pred_test = pred_df.iloc[test_idx, :].values\n",
    "        out_CV = out_df.iloc[CV_idx].values\n",
    "        out_test = out_df.iloc[test_idx].values\n",
    "\n",
    "        # Setup Cross Validation Object\n",
    "        rskf = RepeatedStratifiedKFold(n_splits = 5, n_repeats = 2, random_state = 42)\n",
    "        \n",
    "        # Initialize Models to Train\n",
    "        no_penalty_model = LogisticRegression(\n",
    "            fit_intercept = False,\n",
    "            solver = \"saga\",\n",
    "            n_jobs = -1,\n",
    "            max_iter = 20000,\n",
    "            class_weight = \"balanced\",\n",
    "            penalty = None\n",
    "        )\n",
    "\n",
    "        LASSO_model = LogisticRegressionCV(\n",
    "            Cs = [0.001, 0.01, 0.1, 1, 10, 100, 1000], \n",
    "            cv = rskf.split(pred_CV, ids_CV), \n",
    "            fit_intercept = False,\n",
    "            class_weight = \"balanced\",\n",
    "            penalty = \"l1\", \n",
    "            solver = \"saga\", \n",
    "            n_jobs = -1, \n",
    "            max_iter = 20000, \n",
    "            scoring = \"f1_macro\", \n",
    "            refit = True\n",
    "        )\n",
    "\n",
    "        relaxed_LASSO_model = LogisticRegression(\n",
    "            fit_intercept = False,\n",
    "            solver = \"saga\",\n",
    "            n_jobs = -1,\n",
    "            max_iter = 20000,\n",
    "            class_weight = \"balanced\",\n",
    "            penalty = None\n",
    "        )\n",
    "\n",
    "        # Fit Models\n",
    "        no_penalty_model.fit(pred_CV, out_CV)\n",
    "        LASSO_model.fit(pred_CV, out_CV)\n",
    "\n",
    "        # Obtain and fit \"Relaxed LASSO\" Model\n",
    "        selector = SelectFromModel(LASSO_model, threshold = \"mean\", prefit = True)\n",
    "        selected_features = selector.get_support()\n",
    "        pred_CV_selected = pred_CV[:, selected_features]\n",
    "        pred_test_selected = pred_test[:, selected_features]\n",
    "        relaxed_LASSO_model.fit(pred_CV_selected, out_CV)\n",
    "\n",
    "        # Append F1 Scores\n",
    "        f1_scores[\"No Penalty\"].append(f1_score(out_test, no_penalty_model.predict(pred_test)))\n",
    "        f1_scores[\"LASSO\"].append(f1_score(out_test, LASSO_model.predict(pred_test)))\n",
    "        f1_scores[\"Relaxed LASSO\"].append(f1_score(out_test, relaxed_LASSO_model.predict(pred_test_selected)))\n",
    "\n",
    "        # Remove generator from LASSO_model to allow pickling\n",
    "        LASSO_model.set_params(cv = None)\n",
    "\n",
    "        # Add Models and Scores to Dictionaries\n",
    "        models[\"No Penalty\"].append(no_penalty_model)\n",
    "        models[\"LASSO\"].append(LASSO_model)\n",
    "        models[\"Relaxed LASSO\"].append(relaxed_LASSO_model)\n",
    "\n",
    "        # Store selected features for relaxed LASSO\n",
    "        relaxed_LASSO_selected_features.append(selected_features)\n",
    "\n",
    "    return f1_scores, models, relaxed_LASSO_selected_features"
   ]
  },
  {
   "cell_type": "code",
   "execution_count": 12,
   "metadata": {},
   "outputs": [],
   "source": [
    "# Saving Models and Test Scores\n",
    "with open(\"raw_SA_investigation_shuffled.pkl\", \"wb\") as f:\n",
    "    pickle.dump((test_scores, CV_models, relaxed_LASSO_features), f)"
   ]
  },
  {
   "cell_type": "code",
   "execution_count": null,
   "metadata": {},
   "outputs": [],
   "source": [
    "# Load Test Scores and CV Models from File\n",
    "with open(\"raw_SA_investigation_shuffled.pkl\", \"rb\") as f:\n",
    "    test_scores, CV_models, relaxed_LASSO_features = pickle.load(f)"
   ]
  },
  {
   "cell_type": "markdown",
   "metadata": {},
   "source": [
    "## SA 1"
   ]
  },
  {
   "cell_type": "code",
   "execution_count": 11,
   "metadata": {},
   "outputs": [],
   "source": [
    "test_scores[\"Lv_1_Hi\"], CV_models[\"Lv_1_Hi\"], relaxed_LASSO_features[\"Lv_1_Hi\"] = evaluate_models(predictors_df, outcomes_df[\"Lv_1_Hi\"], ids, trial_nums)"
   ]
  },
  {
   "cell_type": "code",
   "execution_count": null,
   "metadata": {},
   "outputs": [],
   "source": []
  }
 ],
 "metadata": {
  "kernelspec": {
   "display_name": "Python 3",
   "language": "python",
   "name": "python3"
  },
  "language_info": {
   "codemirror_mode": {
    "name": "ipython",
    "version": 3
   },
   "file_extension": ".py",
   "mimetype": "text/x-python",
   "name": "python",
   "nbconvert_exporter": "python",
   "pygments_lexer": "ipython3",
   "version": "3.10.12"
  }
 },
 "nbformat": 4,
 "nbformat_minor": 2
}
