{
 "cells": [
  {
   "cell_type": "markdown",
   "metadata": {},
   "source": [
    "# Initial Imports"
   ]
  },
  {
   "cell_type": "code",
   "execution_count": null,
   "metadata": {},
   "outputs": [],
   "source": [
    "import pandas as pd\n",
    "import numpy as np\n",
    "import pickle\n",
    "from sklearn.preprocessing import StandardScaler\n",
    "from sklearn.metrics import f1_score, balanced_accuracy_score\n",
    "from sklearn.linear_model import LogisticRegression, LogisticRegressionCV\n",
    "from sklearn.model_selection import StratifiedKFold, RepeatedStratifiedKFold\n",
    "from sklearn.feature_selection import SelectFromModel\n",
    "from collections import defaultdict"
   ]
  },
  {
   "cell_type": "markdown",
   "metadata": {},
   "source": [
    "# Pre-Processing"
   ]
  },
  {
   "cell_type": "code",
   "execution_count": null,
   "metadata": {},
   "outputs": [],
   "source": [
    "df = pd.read_csv(\"./kieranFeatures_1-30_14-Nov-2024_rawSA.csv\").replace([np.inf, -np.inf], np.nan).interpolate() # Perform linear interpolation on all non-valid numbers\n",
    "\n",
    "df[\"Lv_1_Lo\"] = (df[\"SA1\"] < 5).astype(int)\n",
    "df[\"Lv_2_Lo\"] = (df[\"SA2\"] < 5).astype(int)\n",
    "df[\"Lv_3_Lo\"] = (df[\"SA3\"] < 5).astype(int)\n",
    "df[\"Tot_Lo\"] = (df[\"SAtotal\"] < 15).astype(int)\n",
    "\n",
    "ids = df.iloc[:, 0]\n",
    "trial_nums = df.iloc[:, 1]\n",
    "predictors_df = df.iloc[:, 2:df.shape[1] - 8]\n",
    "outcomes_df = df.iloc[:, df.shape[1] - 8:]\n",
    "\n",
    "# Shuffle Labels\n",
    "outcomes_df[\"Lv_1_Lo\"] = np.random.permutation(outcomes_df[\"Lv_1_Lo\"])\n",
    "outcomes_df[\"Lv_2_Lo\"] = np.random.permutation(outcomes_df[\"Lv_2_Lo\"])\n",
    "outcomes_df[\"Lv_3_Lo\"] = np.random.permutation(outcomes_df[\"Lv_3_Lo\"])\n",
    "outcomes_df[\"Tot_Lo\"] = np.random.permutation(outcomes_df[\"Tot_Lo\"])\n",
    "\n",
    "# Free Memory\n",
    "del df"
   ]
  },
  {
   "cell_type": "markdown",
   "metadata": {},
   "source": [
    "# Cross Validation"
   ]
  },
  {
   "cell_type": "code",
   "execution_count": null,
   "metadata": {},
   "outputs": [],
   "source": [
    "f1_scores = {\n",
    "    \"Lv_1_Lo\": [],\n",
    "    \"Lv_2_Lo\": [],\n",
    "    \"Lv_3_Lo\": [],\n",
    "    \"Tot_Lo\": []\n",
    "}\n",
    "\n",
    "accuracy_scores = {\n",
    "    \"Lv_1_Lo\": [],\n",
    "    \"Lv_2_Lo\": [],\n",
    "    \"Lv_3_Lo\": [],\n",
    "    \"Tot_Lo\": []\n",
    "}\n",
    "\n",
    "CV_models = {\n",
    "    \"Lv_1_Lo\": [],\n",
    "    \"Lv_2_Lo\": [],\n",
    "    \"Lv_3_Lo\": [],\n",
    "    \"Tot_Lo\": []\n",
    "}\n",
    "\n",
    "relaxed_LASSO_features = {\n",
    "    \"Lv_1_Lo\": [],\n",
    "    \"Lv_2_Lo\": [],\n",
    "    \"Lv_3_Lo\": [],\n",
    "    \"Tot_Lo\": []\n",
    "}\n",
    "\n",
    "# Sum of F1 and accuracy score\n",
    "def scorer(estimator, predictors, outcomes):\n",
    "    return f1_score(outcomes, estimator.predict(predictors), average = \"macro\") + balanced_accuracy_score(outcomes, estimator.predict(predictors))"
   ]
  },
  {
   "cell_type": "code",
   "execution_count": null,
   "metadata": {},
   "outputs": [],
   "source": [
    "def evaluate_models(pred_df, out_df, ids, trial_nums):\n",
    "    f1_scores = defaultdict(list)\n",
    "    accuracy_scores = defaultdict(list)\n",
    "    models = defaultdict(list)\n",
    "    relaxed_LASSO_selected_features = []\n",
    "\n",
    "    # Obtain 5 test folds stratifying by participant ID\n",
    "    skf = StratifiedKFold(n_splits = 5, shuffle = True, random_state = 42)\n",
    "    for i, (CV_idx, test_idx) in enumerate(skf.split(pred_df, ids)):\n",
    "        # Train-Test Split for the Fold\n",
    "        ids_CV = ids.iloc[CV_idx].values\n",
    "        # ids_test = ids.iloc[test_idx].values\n",
    "        # trial_nums_CV = ids.iloc[CV_idx].values\n",
    "        # trial_nums_test = ids.iloc[test_idx].values\n",
    "        pred_CV = pred_df.iloc[CV_idx, :].values\n",
    "        pred_test = pred_df.iloc[test_idx, :].values\n",
    "        out_CV = out_df.iloc[CV_idx].values\n",
    "        out_test = out_df.iloc[test_idx].values\n",
    "\n",
    "        # Standardize data\n",
    "        scaler = StandardScaler()\n",
    "        pred_CV = scaler.fit_transform(pred_CV)\n",
    "        pred_test = scaler.transform(pred_test)\n",
    "\n",
    "        # Setup Cross Validation Object\n",
    "        rskf = RepeatedStratifiedKFold(n_splits = 5, n_repeats = 2, random_state = 42)\n",
    "        \n",
    "        # Initialize Models to Train\n",
    "        no_penalty_model = LogisticRegression(\n",
    "            fit_intercept = False,\n",
    "            solver = \"saga\",\n",
    "            n_jobs = -1,\n",
    "            max_iter = 20000,\n",
    "            class_weight = \"balanced\",\n",
    "            penalty = None\n",
    "        )\n",
    "\n",
    "        Ridge_model = LogisticRegressionCV(\n",
    "            Cs = [0.001, 0.01, 0.1, 1, 10, 100, 1000], \n",
    "            cv = rskf.split(pred_CV, ids_CV), \n",
    "            fit_intercept = False,\n",
    "            class_weight = \"balanced\", \n",
    "            solver = \"saga\", \n",
    "            n_jobs = -1, \n",
    "            max_iter = 20000, \n",
    "            scoring = scorer, \n",
    "            refit = True\n",
    "        )\n",
    "\n",
    "        LASSO_model = LogisticRegressionCV(\n",
    "            Cs = [0.001, 0.01, 0.1, 1, 10, 100, 1000], \n",
    "            cv = rskf.split(pred_CV, ids_CV), \n",
    "            fit_intercept = False,\n",
    "            class_weight = \"balanced\",\n",
    "            penalty = \"l1\", \n",
    "            solver = \"saga\", \n",
    "            n_jobs = -1, \n",
    "            max_iter = 20000, \n",
    "            scoring = scorer, \n",
    "            refit = True\n",
    "        )\n",
    "\n",
    "        relaxed_LASSO_model = LogisticRegression(\n",
    "            fit_intercept = False,\n",
    "            solver = \"saga\",\n",
    "            n_jobs = -1,\n",
    "            max_iter = 20000,\n",
    "            class_weight = \"balanced\",\n",
    "            penalty = None\n",
    "        )\n",
    "\n",
    "        # Fit Models\n",
    "        no_penalty_model.fit(pred_CV, out_CV)\n",
    "        Ridge_model.fit(pred_CV, out_CV)\n",
    "        LASSO_model.fit(pred_CV, out_CV)\n",
    "\n",
    "        # Obtain and fit \"Relaxed LASSO\" Model\n",
    "        selector = SelectFromModel(LASSO_model, threshold = \"mean\", prefit = True)\n",
    "        selected_features = selector.get_support()\n",
    "        pred_CV_selected = pred_CV[:, selected_features]\n",
    "        pred_test_selected = pred_test[:, selected_features]\n",
    "        relaxed_LASSO_model.fit(pred_CV_selected, out_CV)\n",
    "\n",
    "        # Append F1 Scores\n",
    "        f1_scores[\"No Penalty\"].append(f1_score(out_test, no_penalty_model.predict(pred_test), average = \"macro\"))\n",
    "        f1_scores[\"Ridge\"].append(f1_score(out_test, Ridge_model.predict(pred_test), average = \"macro\"))\n",
    "        f1_scores[\"LASSO\"].append(f1_score(out_test, LASSO_model.predict(pred_test), average = \"macro\"))\n",
    "        f1_scores[\"Relaxed LASSO\"].append(f1_score(out_test, relaxed_LASSO_model.predict(pred_test_selected), average = \"macro\"))\n",
    "\n",
    "        # Append accuracy Scores\n",
    "        accuracy_scores[\"No Penalty\"].append(balanced_accuracy_score(out_test, no_penalty_model.predict(pred_test)))\n",
    "        accuracy_scores[\"Ridge\"].append(balanced_accuracy_score(out_test, Ridge_model.predict(pred_test)))\n",
    "        accuracy_scores[\"LASSO\"].append(balanced_accuracy_score(out_test, LASSO_model.predict(pred_test)))\n",
    "        accuracy_scores[\"Relaxed LASSO\"].append(balanced_accuracy_score(out_test, relaxed_LASSO_model.predict(pred_test_selected)))\n",
    "\n",
    "        # Remove generator from models to allow pickling\n",
    "        Ridge_model.set_params(cv = None)\n",
    "        LASSO_model.set_params(cv = None)\n",
    "\n",
    "        # Add Models and Scores to Dictionaries\n",
    "        models[\"No Penalty\"].append(no_penalty_model)\n",
    "        models[\"Ridge\"].append(Ridge_model)\n",
    "        models[\"LASSO\"].append(LASSO_model)\n",
    "        models[\"Relaxed LASSO\"].append(relaxed_LASSO_model)\n",
    "\n",
    "        # Store selected features for relaxed LASSO\n",
    "        relaxed_LASSO_selected_features.append(selected_features)\n",
    "\n",
    "    return f1_scores, accuracy_scores, models, relaxed_LASSO_selected_features"
   ]
  },
  {
   "cell_type": "code",
   "execution_count": null,
   "metadata": {},
   "outputs": [],
   "source": [
    "# Saving Models and Test Scores\n",
    "with open(\"Pickle Files/raw_SA_investigation_shuffled.pkl\", \"wb\") as f:\n",
    "    pickle.dump((f1_scores, accuracy_scores, CV_models, relaxed_LASSO_features), f)"
   ]
  },
  {
   "cell_type": "code",
   "execution_count": null,
   "metadata": {},
   "outputs": [],
   "source": [
    "# Load Test Scores and CV Models from File\n",
    "with open(\"Pickle Files/raw_SA_investigation.pkl_shuffled\", \"rb\") as f:\n",
    "    f1_scores, accuracy_scores, CV_models, relaxed_LASSO_features = pickle.load(f)"
   ]
  },
  {
   "cell_type": "markdown",
   "metadata": {},
   "source": [
    "## SA 1"
   ]
  },
  {
   "cell_type": "code",
   "execution_count": 11,
   "metadata": {},
   "outputs": [],
   "source": [
    "test_scores[\"Lv_1_Hi\"], CV_models[\"Lv_1_Hi\"], relaxed_LASSO_features[\"Lv_1_Hi\"] = evaluate_models(predictors_df, outcomes_df[\"Lv_1_Hi\"], ids, trial_nums)"
   ]
  },
  {
   "cell_type": "markdown",
   "metadata": {},
   "source": [
    "## SA 2"
   ]
  },
  {
   "cell_type": "code",
   "execution_count": 5,
   "metadata": {},
   "outputs": [],
   "source": [
    "test_scores[\"Lv_2_Hi\"], CV_models[\"Lv_2_Hi\"], relaxed_LASSO_features[\"Lv_2_Hi\"] = evaluate_models(predictors_df, outcomes_df[\"Lv_2_Hi\"], ids, trial_nums)"
   ]
  },
  {
   "cell_type": "markdown",
   "metadata": {},
   "source": [
    "## SA 3"
   ]
  },
  {
   "cell_type": "code",
   "execution_count": 6,
   "metadata": {},
   "outputs": [],
   "source": [
    "test_scores[\"Lv_3_Hi\"], CV_models[\"Lv_3_Hi\"], relaxed_LASSO_features[\"Lv_3_Hi\"] = evaluate_models(predictors_df, outcomes_df[\"Lv_3_Hi\"], ids, trial_nums)"
   ]
  },
  {
   "cell_type": "markdown",
   "metadata": {},
   "source": [
    "## Total SA"
   ]
  },
  {
   "cell_type": "code",
   "execution_count": 7,
   "metadata": {},
   "outputs": [],
   "source": [
    "test_scores[\"Tot_Hi\"], CV_models[\"Tot_Hi\"], relaxed_LASSO_features[\"Tot_Hi\"] = evaluate_models(predictors_df, outcomes_df[\"Tot_Hi\"], ids, trial_nums)"
   ]
  },
  {
   "cell_type": "code",
   "execution_count": null,
   "metadata": {},
   "outputs": [],
   "source": []
  }
 ],
 "metadata": {
  "kernelspec": {
   "display_name": "Python 3",
   "language": "python",
   "name": "python3"
  },
  "language_info": {
   "codemirror_mode": {
    "name": "ipython",
    "version": 3
   },
   "file_extension": ".py",
   "mimetype": "text/x-python",
   "name": "python",
   "nbconvert_exporter": "python",
   "pygments_lexer": "ipython3",
   "version": "3.10.12"
  }
 },
 "nbformat": 4,
 "nbformat_minor": 2
}
